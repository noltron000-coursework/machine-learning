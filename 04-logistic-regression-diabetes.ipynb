{
 "cells": [
  {
   "cell_type": "markdown",
   "metadata": {},
   "source": [
    "## Activity: Obtain confusion matrix, accuracy, precision, recall for pima Diabetes dataset\n",
    "1. Load the dataset: `pd.read_csv('diabetes.csv')`\n",
    "1. Use these features: `feature_cols = ['Pregnancies', 'Insulin', 'BMI', 'Age']`\n",
    "1. Split the data to train and test: `X_train, X_test, y_train, y_test = train_test_split(X, y, test_size=0.25, random_state=0)`\n",
    "1. Instantiate logistic regression model\n",
    "1. ~~Obtain the statistics of `y_test`~~\n",
    "1. Obtain the confuction matrix\n",
    "\n",
    "https://www.ritchieng.com/machine-learning-evaluate-classification-model/"
   ]
  },
  {
   "cell_type": "markdown",
   "metadata": {},
   "source": [
    "### Step 1"
   ]
  },
  {
   "cell_type": "code",
   "execution_count": 153,
   "metadata": {
    "scrolled": true
   },
   "outputs": [
    {
     "data": {
      "text/html": [
       "<div>\n",
       "<style scoped>\n",
       "    .dataframe tbody tr th:only-of-type {\n",
       "        vertical-align: middle;\n",
       "    }\n",
       "\n",
       "    .dataframe tbody tr th {\n",
       "        vertical-align: top;\n",
       "    }\n",
       "\n",
       "    .dataframe thead th {\n",
       "        text-align: right;\n",
       "    }\n",
       "</style>\n",
       "<table border=\"1\" class=\"dataframe\">\n",
       "  <thead>\n",
       "    <tr style=\"text-align: right;\">\n",
       "      <th></th>\n",
       "      <th>Pregnancies</th>\n",
       "      <th>Glucose</th>\n",
       "      <th>BloodPressure</th>\n",
       "      <th>SkinThickness</th>\n",
       "      <th>Insulin</th>\n",
       "      <th>BMI</th>\n",
       "      <th>DiabetesPedigreeFunction</th>\n",
       "      <th>Age</th>\n",
       "      <th>Outcome</th>\n",
       "    </tr>\n",
       "  </thead>\n",
       "  <tbody>\n",
       "    <tr>\n",
       "      <th>0</th>\n",
       "      <td>6</td>\n",
       "      <td>148</td>\n",
       "      <td>72</td>\n",
       "      <td>35</td>\n",
       "      <td>0</td>\n",
       "      <td>33.6</td>\n",
       "      <td>0.627</td>\n",
       "      <td>50</td>\n",
       "      <td>1</td>\n",
       "    </tr>\n",
       "    <tr>\n",
       "      <th>1</th>\n",
       "      <td>1</td>\n",
       "      <td>85</td>\n",
       "      <td>66</td>\n",
       "      <td>29</td>\n",
       "      <td>0</td>\n",
       "      <td>26.6</td>\n",
       "      <td>0.351</td>\n",
       "      <td>31</td>\n",
       "      <td>0</td>\n",
       "    </tr>\n",
       "    <tr>\n",
       "      <th>2</th>\n",
       "      <td>8</td>\n",
       "      <td>183</td>\n",
       "      <td>64</td>\n",
       "      <td>0</td>\n",
       "      <td>0</td>\n",
       "      <td>23.3</td>\n",
       "      <td>0.672</td>\n",
       "      <td>32</td>\n",
       "      <td>1</td>\n",
       "    </tr>\n",
       "    <tr>\n",
       "      <th>3</th>\n",
       "      <td>1</td>\n",
       "      <td>89</td>\n",
       "      <td>66</td>\n",
       "      <td>23</td>\n",
       "      <td>94</td>\n",
       "      <td>28.1</td>\n",
       "      <td>0.167</td>\n",
       "      <td>21</td>\n",
       "      <td>0</td>\n",
       "    </tr>\n",
       "    <tr>\n",
       "      <th>4</th>\n",
       "      <td>0</td>\n",
       "      <td>137</td>\n",
       "      <td>40</td>\n",
       "      <td>35</td>\n",
       "      <td>168</td>\n",
       "      <td>43.1</td>\n",
       "      <td>2.288</td>\n",
       "      <td>33</td>\n",
       "      <td>1</td>\n",
       "    </tr>\n",
       "  </tbody>\n",
       "</table>\n",
       "</div>"
      ],
      "text/plain": [
       "   Pregnancies  Glucose  BloodPressure  SkinThickness  Insulin   BMI  \\\n",
       "0            6      148             72             35        0  33.6   \n",
       "1            1       85             66             29        0  26.6   \n",
       "2            8      183             64              0        0  23.3   \n",
       "3            1       89             66             23       94  28.1   \n",
       "4            0      137             40             35      168  43.1   \n",
       "\n",
       "   DiabetesPedigreeFunction  Age  Outcome  \n",
       "0                     0.627   50        1  \n",
       "1                     0.351   31        0  \n",
       "2                     0.672   32        1  \n",
       "3                     0.167   21        0  \n",
       "4                     2.288   33        1  "
      ]
     },
     "execution_count": 153,
     "metadata": {},
     "output_type": "execute_result"
    }
   ],
   "source": [
    "# load the dataset\n",
    "import pandas\n",
    "import matplotlib.pyplot as plot\n",
    "from sklearn.model_selection import train_test_split\n",
    "\n",
    "data = pandas.read_csv('diabetes.csv')\n",
    "\n",
    "data.head()"
   ]
  },
  {
   "cell_type": "markdown",
   "metadata": {},
   "source": [
    "### Step 2"
   ]
  },
  {
   "cell_type": "code",
   "execution_count": 108,
   "metadata": {},
   "outputs": [],
   "source": [
    "# use particular features from the table (check headers)\n",
    "features = ['Pregnancies', 'Insulin', 'BMI', 'Age']\n",
    "\n",
    "# X is a matrix, access the features we want in feature_cols\n",
    "X = data[feature_cols]\n",
    "# Y is a vector, hence we use dot to access 'label'\n",
    "Y = data['Outcome']\n",
    "# T is test size, a percent\n",
    "T = 0.25"
   ]
  },
  {
   "cell_type": "code",
   "execution_count": 109,
   "metadata": {
    "scrolled": true
   },
   "outputs": [
    {
     "data": {
      "text/html": [
       "<div>\n",
       "<style scoped>\n",
       "    .dataframe tbody tr th:only-of-type {\n",
       "        vertical-align: middle;\n",
       "    }\n",
       "\n",
       "    .dataframe tbody tr th {\n",
       "        vertical-align: top;\n",
       "    }\n",
       "\n",
       "    .dataframe thead th {\n",
       "        text-align: right;\n",
       "    }\n",
       "</style>\n",
       "<table border=\"1\" class=\"dataframe\">\n",
       "  <thead>\n",
       "    <tr style=\"text-align: right;\">\n",
       "      <th></th>\n",
       "      <th>Pregnancies</th>\n",
       "      <th>Insulin</th>\n",
       "      <th>BMI</th>\n",
       "      <th>Age</th>\n",
       "    </tr>\n",
       "  </thead>\n",
       "  <tbody>\n",
       "    <tr>\n",
       "      <th>0</th>\n",
       "      <td>6</td>\n",
       "      <td>0</td>\n",
       "      <td>33.6</td>\n",
       "      <td>50</td>\n",
       "    </tr>\n",
       "    <tr>\n",
       "      <th>1</th>\n",
       "      <td>1</td>\n",
       "      <td>0</td>\n",
       "      <td>26.6</td>\n",
       "      <td>31</td>\n",
       "    </tr>\n",
       "    <tr>\n",
       "      <th>2</th>\n",
       "      <td>8</td>\n",
       "      <td>0</td>\n",
       "      <td>23.3</td>\n",
       "      <td>32</td>\n",
       "    </tr>\n",
       "    <tr>\n",
       "      <th>3</th>\n",
       "      <td>1</td>\n",
       "      <td>94</td>\n",
       "      <td>28.1</td>\n",
       "      <td>21</td>\n",
       "    </tr>\n",
       "    <tr>\n",
       "      <th>4</th>\n",
       "      <td>0</td>\n",
       "      <td>168</td>\n",
       "      <td>43.1</td>\n",
       "      <td>33</td>\n",
       "    </tr>\n",
       "  </tbody>\n",
       "</table>\n",
       "</div>"
      ],
      "text/plain": [
       "   Pregnancies  Insulin   BMI  Age\n",
       "0            6        0  33.6   50\n",
       "1            1        0  26.6   31\n",
       "2            8        0  23.3   32\n",
       "3            1       94  28.1   21\n",
       "4            0      168  43.1   33"
      ]
     },
     "execution_count": 109,
     "metadata": {},
     "output_type": "execute_result"
    }
   ],
   "source": [
    "X.head()"
   ]
  },
  {
   "cell_type": "markdown",
   "metadata": {},
   "source": [
    "### Step 3"
   ]
  },
  {
   "cell_type": "code",
   "execution_count": 110,
   "metadata": {},
   "outputs": [
    {
     "name": "stdout",
     "output_type": "stream",
     "text": [
      "NOT SICK: 130\n",
      "    SICK: 62\n"
     ]
    }
   ],
   "source": [
    "# split X and y into training and testing sets\n",
    "X_train, X_test, Y_train, Y_test = train_test_split(X, Y, test_size=T, random_state=0)\n",
    "neg_y = Y_test.value_counts()[0]\n",
    "pos_y = Y_test.value_counts()[1]\n",
    "print('NOT SICK:', neg_y)\n",
    "print('    SICK:', pos_y)"
   ]
  },
  {
   "cell_type": "code",
   "execution_count": 111,
   "metadata": {},
   "outputs": [
    {
     "name": "stdout",
     "output_type": "stream",
     "text": [
      "train data is OK\n",
      "test data is OK\n"
     ]
    }
   ],
   "source": [
    "# check the size of Y_train\n",
    "try:\n",
    "\tassert(int(len(Y_train)) == int(len(data) * (1-T)))\n",
    "except:\n",
    "\tprint('!WARNING!\\n size doesnt match')\n",
    "else:\n",
    "\tprint('train data is OK')\n",
    "\n",
    "try:\n",
    "\tassert(int(len(Y_test)) == int(len(data) * T))\n",
    "except:\n",
    "\tprint('!WARNING!\\n size doesnt match')\n",
    "else:\n",
    "\tprint('test data is OK')"
   ]
  },
  {
   "cell_type": "markdown",
   "metadata": {},
   "source": [
    "### Step 4"
   ]
  },
  {
   "cell_type": "code",
   "execution_count": 112,
   "metadata": {},
   "outputs": [
    {
     "name": "stderr",
     "output_type": "stream",
     "text": [
      "/Users/nolansmac/anaconda3/lib/python3.7/site-packages/sklearn/linear_model/logistic.py:433: FutureWarning: Default solver will be changed to 'lbfgs' in 0.22. Specify a solver to silence this warning.\n",
      "  FutureWarning)\n"
     ]
    },
    {
     "data": {
      "text/plain": [
       "LogisticRegression(C=1.0, class_weight=None, dual=False, fit_intercept=True,\n",
       "          intercept_scaling=1, max_iter=100, multi_class='warn',\n",
       "          n_jobs=None, penalty='l2', random_state=None, solver='warn',\n",
       "          tol=0.0001, verbose=0, warm_start=False)"
      ]
     },
     "execution_count": 112,
     "metadata": {},
     "output_type": "execute_result"
    }
   ],
   "source": [
    "from sklearn.linear_model import LogisticRegression\n",
    "\n",
    "# get model\n",
    "model = LogisticRegression()\n",
    "\n",
    "# fit model\n",
    "model.fit(X_train, Y_train)"
   ]
  },
  {
   "cell_type": "code",
   "execution_count": 152,
   "metadata": {},
   "outputs": [
    {
     "name": "stdout",
     "output_type": "stream",
     "text": [
      "[[0.63247571 0.71643656 0.71104114 0.5858938  0.84103973 0.82934844\n",
      "  0.50110974 0.48658459 0.72321388 0.32810562 0.64244443 0.25912035\n",
      "  0.63949765 0.76987637 0.57345769 0.80896485 0.54236399 0.8809859\n",
      "  0.56071047 0.63038849 0.55812011 0.62388338 0.80183978 0.58322696\n",
      "  0.84451719 0.7468329  0.90256923 0.30366288 0.84641691 0.7802164\n",
      "  0.56905168 0.65783942 0.77603886 0.61926457 0.86657866 0.61209784\n",
      "  0.52950297 0.83795257 0.70451824 0.69081839 0.72700295 0.61183417\n",
      "  0.72646557 0.71118959 0.36528086 0.97634749 0.84179352 0.76981625\n",
      "  0.6515407  0.72419959 0.66735896 0.75119404 0.25510488 0.60998536\n",
      "  0.58374455 0.86424313 0.81104624 0.35222318 0.81077869 0.94314096\n",
      "  0.36008453 0.53363618 0.8749028  0.73042398 0.75080896 0.69429604\n",
      "  0.53623776 0.79036905 0.57152171 0.59237736 0.79830904 0.72972934\n",
      "  0.73744144 0.42761737 0.54532959 0.72283848 0.41998719 0.58400512\n",
      "  0.72723899 0.65900777 0.45373422 0.62069277 0.7007795  0.89940831\n",
      "  0.67127398 0.54898637 0.83963021 0.5103025  0.36769492 0.59261596\n",
      "  0.80205603 0.80301979 0.75536792 0.88852815 0.5841403  0.78438144\n",
      "  0.45875471 0.51196398 0.35347233 0.66059342 0.45736573 0.83786176\n",
      "  0.6221259  0.88688713 0.65218013 0.65957216 0.8209015  0.78675188\n",
      "  0.85289054 0.76985898 0.81595408 0.47775351 0.52900634 0.71115752\n",
      "  0.50674921 0.58255527 0.77084992 0.72977089 0.80756076 0.2501287\n",
      "  0.53499907 0.3354546  0.57901401 0.46435966 0.83965298 0.8564314\n",
      "  0.61857574 0.66172686 0.6369935  0.87157469 0.71666307 0.95994442\n",
      "  0.81518861 0.33283053 0.53647126 0.51284318 0.80089206 0.54138349\n",
      "  0.76783279 0.81630733 0.73608006 0.62507031 0.87083494 0.58586087\n",
      "  0.57539142 0.86167809 0.79218306 0.70522301 0.84174901 0.63983766\n",
      "  0.76258551 0.56649311 0.79380119 0.76837662 0.38888459 0.80268991\n",
      "  0.19928502 0.82191509 0.63511265 0.21381357 0.55919386 0.63440346\n",
      "  0.88239862 0.77156675 0.52134931 0.78679475 0.48501479 0.83877506\n",
      "  0.76259881 0.70625609 0.83329952 0.51283474 0.70030106 0.55348957\n",
      "  0.49830098 0.70753494 0.38263772 0.58406005 0.74179055 0.8258032\n",
      "  0.66480459 0.30393175 0.67545632 0.64269574 0.7663053  0.76261476\n",
      "  0.61590682 0.75308588 0.72045448 0.81498826 0.7377638  0.72143074]\n",
      " [0.36752429 0.28356344 0.28895886 0.4141062  0.15896027 0.17065156\n",
      "  0.49889026 0.51341541 0.27678612 0.67189438 0.35755557 0.74087965\n",
      "  0.36050235 0.23012363 0.42654231 0.19103515 0.45763601 0.1190141\n",
      "  0.43928953 0.36961151 0.44187989 0.37611662 0.19816022 0.41677304\n",
      "  0.15548281 0.2531671  0.09743077 0.69633712 0.15358309 0.2197836\n",
      "  0.43094832 0.34216058 0.22396114 0.38073543 0.13342134 0.38790216\n",
      "  0.47049703 0.16204743 0.29548176 0.30918161 0.27299705 0.38816583\n",
      "  0.27353443 0.28881041 0.63471914 0.02365251 0.15820648 0.23018375\n",
      "  0.3484593  0.27580041 0.33264104 0.24880596 0.74489512 0.39001464\n",
      "  0.41625545 0.13575687 0.18895376 0.64777682 0.18922131 0.05685904\n",
      "  0.63991547 0.46636382 0.1250972  0.26957602 0.24919104 0.30570396\n",
      "  0.46376224 0.20963095 0.42847829 0.40762264 0.20169096 0.27027066\n",
      "  0.26255856 0.57238263 0.45467041 0.27716152 0.58001281 0.41599488\n",
      "  0.27276101 0.34099223 0.54626578 0.37930723 0.2992205  0.10059169\n",
      "  0.32872602 0.45101363 0.16036979 0.4896975  0.63230508 0.40738404\n",
      "  0.19794397 0.19698021 0.24463208 0.11147185 0.4158597  0.21561856\n",
      "  0.54124529 0.48803602 0.64652767 0.33940658 0.54263427 0.16213824\n",
      "  0.3778741  0.11311287 0.34781987 0.34042784 0.1790985  0.21324812\n",
      "  0.14710946 0.23014102 0.18404592 0.52224649 0.47099366 0.28884248\n",
      "  0.49325079 0.41744473 0.22915008 0.27022911 0.19243924 0.7498713\n",
      "  0.46500093 0.6645454  0.42098599 0.53564034 0.16034702 0.1435686\n",
      "  0.38142426 0.33827314 0.3630065  0.12842531 0.28333693 0.04005558\n",
      "  0.18481139 0.66716947 0.46352874 0.48715682 0.19910794 0.45861651\n",
      "  0.23216721 0.18369267 0.26391994 0.37492969 0.12916506 0.41413913\n",
      "  0.42460858 0.13832191 0.20781694 0.29477699 0.15825099 0.36016234\n",
      "  0.23741449 0.43350689 0.20619881 0.23162338 0.61111541 0.19731009\n",
      "  0.80071498 0.17808491 0.36488735 0.78618643 0.44080614 0.36559654\n",
      "  0.11760138 0.22843325 0.47865069 0.21320525 0.51498521 0.16122494\n",
      "  0.23740119 0.29374391 0.16670048 0.48716526 0.29969894 0.44651043\n",
      "  0.50169902 0.29246506 0.61736228 0.41593995 0.25820945 0.1741968\n",
      "  0.33519541 0.69606825 0.32454368 0.35730426 0.2336947  0.23738524\n",
      "  0.38409318 0.24691412 0.27954552 0.18501174 0.2622362  0.27856926]]\n"
     ]
    }
   ],
   "source": [
    "# Y_pred = model.predict(X_test)\n",
    "Y_pred = model.predict_proba(X_test).T\n",
    "print(Y_pred)"
   ]
  },
  {
   "cell_type": "code",
   "execution_count": 128,
   "metadata": {},
   "outputs": [
    {
     "name": "stdout",
     "output_type": "stream",
     "text": [
      "[1 0 0 1 0 0 1 1 0 0 1 1 0 0 0 0 1 0 0 0 1 1 0 0 0 0 0 0 0 0 0 0 0 0 0 1 1\n",
      " 0 0 0 0 0 0 1 1 0 0 1 1 1 0 0 1 0 0 0 0 1 1 1 1 0 0 1 1 1 1 0 0 0 0 0 0 0\n",
      " 1 0 0 0 0 0 0 0 0 0 0 0 1 0 1 0 0 0 0 0 0 0 1 0 1 1 0 0 0 0 0 1 0 0 0 1 0\n",
      " 1 1 1 1 1 0 0 0 1 0 0 0 0 0 0 0 1 0 0 0 0 0 1 0 1 0 1 1 0 0 0 0 0 1 0 0 0\n",
      " 0 1 0 1 0 0 1 0 0 0 1 1 1 1 0 0 0 1 0 0 0 0 0 0 1 1 0 0 0 0 0 0 1 1 0 1 1\n",
      " 0 1 1 1 0 0 0]\n"
     ]
    }
   ],
   "source": [
    "# T is transpose\n",
    "print(Y_test.values)"
   ]
  },
  {
   "cell_type": "markdown",
   "metadata": {},
   "source": [
    "### Step 6"
   ]
  },
  {
   "cell_type": "code",
   "execution_count": 124,
   "metadata": {},
   "outputs": [
    {
     "data": {
      "image/png": "[encoded data removed]",
      "text/plain": [
       "<Figure size 432x288 with 1 Axes>"
      ]
     },
     "metadata": {
      "needs_background": "light"
     },
     "output_type": "display_data"
    },
    {
     "data": {
      "text/plain": [
       "0    130\n",
       "1     62\n",
       "Name: Outcome, dtype: int64"
      ]
     },
     "execution_count": 124,
     "metadata": {},
     "output_type": "execute_result"
    }
   ],
   "source": [
    "plot.hist(Y_test, bins=20)\n",
    "plot.show()\n",
    "\n",
    "Y_test_pandas_series = pandas.Series(Y_test)\n",
    "Y_test_pandas_series.value_counts()"
   ]
  },
  {
   "cell_type": "markdown",
   "metadata": {},
   "source": [
    "## Activity: Write a function that calculates&hellip;\n",
    "- How many of 0 (no diabetes) in y_test is predicted correctly as 0 (no diabetes) in y_pred?\n",
    "- How many of 0 (no diabetes) in y_test is predicted incorrectly as 1 (diabetes) in y_pred?\n",
    "- How many of 1 (diabetes) in y_test is predicted incorrectly as 0 (no diabetes) in y_pred?\n",
    "- How many of 1 (diabetes) in y_test is predicted correctly 1 (diabetes) in y_pred?"
   ]
  },
  {
   "cell_type": "markdown",
   "metadata": {},
   "source": [
    "| CONFUSION     | predict positive | predict negative |\n",
    "|---------------|------------------|------------------|\n",
    "| **positive**  | positive result  | false negative   |\n",
    "| **negative**  | false positive   | negative result  |"
   ]
  },
  {
   "cell_type": "code",
   "execution_count": 140,
   "metadata": {},
   "outputs": [],
   "source": [
    "def extract_pos_neg(actual, predict):\n",
    "\tpositive = 0\n",
    "\tnegative = 0\n",
    "\tfalse_pos = 0\n",
    "\tfalse_neg = 0\n",
    "\tfor index in range(0, len(actual)):\n",
    "\t\tif actual[index] == 0 and predict[index] == 0:\n",
    "\t\t\tnegative += 1\n",
    "\t\telif actual[index] == 1 and predict[index] == 0:\n",
    "\t\t\tfalse_neg += 1\n",
    "\t\telif actual[index] == 0 and predict[index] == 1:\n",
    "\t\t\tfalse_pos += 1\n",
    "\t\telif actual[index] == 1 and predict[index] == 1:\n",
    "\t\t\tpositive += 1\n",
    "\treturn positive, negative, false_pos, false_neg"
   ]
  },
  {
   "cell_type": "code",
   "execution_count": 149,
   "metadata": {
    "scrolled": true
   },
   "outputs": [
    {
     "name": "stdout",
     "output_type": "stream",
     "text": [
      " positive: 15\n",
      " negative: 118\n",
      "false_pos: 12\n",
      "false_neg: 47\n"
     ]
    }
   ],
   "source": [
    "predict = Y_pred\n",
    "actual = Y_test.values\n",
    "\n",
    "pos, neg, not_pos, not_neg = extract_pos_neg(actual, predict)\n",
    "\n",
    "print(' positive:', pos)\n",
    "print(' negative:', neg)\n",
    "print('false_pos:', not_pos)\n",
    "print('false_neg:', not_neg)"
   ]
  },
  {
   "cell_type": "code",
   "execution_count": 150,
   "metadata": {},
   "outputs": [
    {
     "name": "stdout",
     "output_type": "stream",
     "text": [
      "pos acc: 0.5555555555555556\n",
      "neg acc: 0.7151515151515152\n",
      "ttl acc: 0.6927083333333334\n"
     ]
    }
   ],
   "source": [
    "def positive_accuracy(positive, false_pos):\n",
    "\treturn positive / (positive + false_pos)\n",
    "\n",
    "def negative_accuracy(negative, false_neg):\n",
    "\treturn negative / (negative + false_neg)\n",
    "\n",
    "def overall_accuracy(positive, negative, false_pos, false_neg):\n",
    "\treturn (positive + negative) / (positive + negative + false_pos + false_neg)\n",
    "\n",
    "print('pos acc:', positive_accuracy(pos, not_pos))\n",
    "print('neg acc:', negative_accuracy(neg, not_neg))\n",
    "print('ttl acc:', overall_accuracy(pos, neg, not_pos, not_neg))"
   ]
  },
  {
   "cell_type": "code",
   "execution_count": null,
   "metadata": {},
   "outputs": [],
   "source": []
  }
 ],
 "metadata": {
  "kernelspec": {
   "display_name": "Python 3",
   "language": "python",
   "name": "python3"
  },
  "language_info": {
   "codemirror_mode": {
    "name": "ipython",
    "version": 3
   },
   "file_extension": ".py",
   "mimetype": "text/x-python",
   "name": "python",
   "nbconvert_exporter": "python",
   "pygments_lexer": "ipython3",
   "version": "3.7.3"
  }
 },
 "nbformat": 4,
 "nbformat_minor": 2
}
