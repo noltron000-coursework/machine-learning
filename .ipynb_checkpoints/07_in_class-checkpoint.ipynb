{
 "cells": [
  {
   "cell_type": "markdown",
   "metadata": {},
   "source": [
    "# Principel Component Analysis (PCA)\n",
    "*PCA is one of the well-known algorithm for Dimensionality Reduction.*\n",
    "- PCA&hellip;\n",
    "\t- Reduces the number of the features.\n",
    "\t- While keeping the features information.\n",
    "\t- Removes correlations among features.\n",
    "\t- Emphasizes variation of strong features, making the data easier to visualize.\n",
    "- Lets watch: [What is PCA?](https://www.youtube.com/watch?v=HMOI_lkzW08)\n",
    "- Lets watch: [What is covariance matrix?](https://www.youtube.com/watch?v=0GzMcUy7ZI0)\n",
    "- Lets watch: [How multiply matrix with vector?](https://www.youtube.com/watch?v=Awcj447pYuk)"
   ]
  },
  {
   "cell_type": "markdown",
   "metadata": {},
   "source": [
    "## Review matrix multiplication\n",
    "- Matrix `A = np.array([[2, 0], [1, 5]])` and vector `v = np.array([3, 4])` are given.\n",
    "- What is the multiplication of `A` by `v`.\n",
    "- Compute it by hand\n",
    "- Write a Python code to compute it (Hint: use `np.dot(A, v)`)"
   ]
  },
  {
   "cell_type": "code",
   "execution_count": 23,
   "metadata": {},
   "outputs": [
    {
     "name": "stdout",
     "output_type": "stream",
     "text": [
      "[ 6 23]\n"
     ]
    }
   ],
   "source": [
    "import numpy as np\n",
    "import pandas as pd\n",
    "import scipy\n",
    "from sklearn.decomposition import PCA\n",
    "from sklearn import preprocessing\n",
    "import matplotlib.pyplot as plt\n",
    "\n",
    "A = np.array([[2, 0], [1, 5]])\n",
    "v = np.array([3, 4])\n",
    "\n",
    "print(np.dot(A, v))"
   ]
  },
  {
   "cell_type": "markdown",
   "metadata": {},
   "source": [
    "## EigenValue and Eigenvector of matrix\n",
    "For given matrix `A`, we are interested to obtain vector `v` and scalar value `a` such that:\n",
    "\n",
    "`Av = av`"
   ]
  },
  {
   "cell_type": "code",
   "execution_count": 5,
   "metadata": {},
   "outputs": [
    {
     "name": "stdout",
     "output_type": "stream",
     "text": [
      "[5. 2.]\n",
      "[[ 0.          0.9486833 ]\n",
      " [ 1.         -0.31622777]]\n"
     ]
    }
   ],
   "source": [
    "eig_value, eig_vector = np.linalg.eig(A)\n",
    "\n",
    "print(eig_value)\n",
    "print(eig_vector)"
   ]
  },
  {
   "cell_type": "markdown",
   "metadata": {},
   "source": [
    "### Practice\n",
    "*Write a Python code to obtain vector v and scalar a for given matrix A*"
   ]
  },
  {
   "cell_type": "code",
   "execution_count": 9,
   "metadata": {},
   "outputs": [
    {
     "name": "stdout",
     "output_type": "stream",
     "text": [
      "[5. 2.]\n",
      "[[ 0.          0.9486833 ]\n",
      " [ 1.         -0.31622777]]\n"
     ]
    }
   ],
   "source": [
    "eig_value, eig_vector = np.linalg.eig(A)\n",
    "\n",
    "print(eig_value)\n",
    "print(eig_vector)"
   ]
  },
  {
   "cell_type": "code",
   "execution_count": 10,
   "metadata": {},
   "outputs": [
    {
     "data": {
      "text/plain": [
       "array([0., 5.])"
      ]
     },
     "execution_count": 10,
     "metadata": {},
     "output_type": "execute_result"
    }
   ],
   "source": [
    "np.dot(A, eig_vector[:, 0])"
   ]
  },
  {
   "cell_type": "code",
   "execution_count": null,
   "metadata": {},
   "outputs": [],
   "source": []
  },
  {
   "cell_type": "code",
   "execution_count": 11,
   "metadata": {},
   "outputs": [
    {
     "data": {
      "text/plain": [
       "array([0., 5.])"
      ]
     },
     "execution_count": 11,
     "metadata": {},
     "output_type": "execute_result"
    }
   ],
   "source": [
    "eig_value[0]*eig_vector[:, 0]"
   ]
  },
  {
   "cell_type": "markdown",
   "metadata": {},
   "source": [
    "Check that Av = av"
   ]
  },
  {
   "cell_type": "code",
   "execution_count": 12,
   "metadata": {},
   "outputs": [
    {
     "data": {
      "text/plain": [
       "array([ 1.8973666 , -0.63245553])"
      ]
     },
     "execution_count": 12,
     "metadata": {},
     "output_type": "execute_result"
    }
   ],
   "source": [
    "np.dot(A, eig_vector[:, 1])"
   ]
  },
  {
   "cell_type": "code",
   "execution_count": 13,
   "metadata": {},
   "outputs": [
    {
     "data": {
      "text/plain": [
       "array([ 1.8973666 , -0.63245553])"
      ]
     },
     "execution_count": 13,
     "metadata": {},
     "output_type": "execute_result"
    }
   ],
   "source": [
    "eig_value[1]*eig_vector[:, 1]"
   ]
  },
  {
   "cell_type": "markdown",
   "metadata": {},
   "source": [
    "### Practice\n",
    "*Are the countries in great UK different in terms of food?*\n",
    "- In the table is the average consumption of 17 types of food in grams per person per week for every country in the UK\n",
    "- It would be great if we can visually represent diffrence among UK countries based on the food they eat \n",
    "- Lets read: http://setosa.io/ev/principal-component-analysis/\n",
    "---"
   ]
  },
  {
   "cell_type": "markdown",
   "metadata": {},
   "source": [
    "### Activity\n",
    "*Write a code that obtains the two principle components from 17 types of food in UK.*"
   ]
  },
  {
   "cell_type": "code",
   "execution_count": 16,
   "metadata": {},
   "outputs": [
    {
     "name": "stdout",
     "output_type": "stream",
     "text": [
      "[[ 375   57  245 1472  105   54  193  147 1102  720  253  685  488  198\n",
      "   360 1374  156]\n",
      " [ 135   47  267 1494   66   41  209   93  674 1033  143  586  355  187\n",
      "   334 1506  139]\n",
      " [ 458   53  242 1462  103   62  184  122  957  566  171  750  418  220\n",
      "   337 1572  147]\n",
      " [ 475   73  227 1582  103   64  235  160 1137  874  265  803  570  203\n",
      "   365 1256  175]]\n",
      "[[-144.99315218   -2.53299944]\n",
      " [ 477.39163882  -58.90186182]\n",
      " [ -91.869339    286.08178613]\n",
      " [-240.52914764 -224.64692488]]\n"
     ]
    }
   ],
   "source": [
    "df = pd.read_excel('pca_uk.xlsx')\n",
    "\n",
    "X = np.array([df[i].values for i in df.columns if i != 'Features'])\n",
    "\n",
    "print(X)\n",
    "\n",
    "pca = PCA(n_components=2)\n",
    "X_r = pca.fit_transform(X)\n",
    "\n",
    "# Principle components of 17 features:\n",
    "print(X_r)"
   ]
  },
  {
   "cell_type": "code",
   "execution_count": 17,
   "metadata": {},
   "outputs": [
    {
     "data": {
      "image/png": "[encoded data removed]",
      "text/plain": [
       "<Figure size 432x288 with 1 Axes>"
      ]
     },
     "metadata": {
      "needs_background": "light"
     },
     "output_type": "display_data"
    }
   ],
   "source": [
    "# Lets visualize the principle components\n",
    "for k, (i,j) in enumerate(zip(X_r[:, 0], X_r[:, 1])):\n",
    "    plt.scatter(i, j)\n",
    "    plt.text(i+0.3, j+0.3, df.columns[:-1][k])\n",
    "\n",
    "plt.show()"
   ]
  },
  {
   "cell_type": "markdown",
   "metadata": {},
   "source": [
    "### Answer\n",
    ">! Ireland is different from other three countries in UK.\n",
    "---"
   ]
  },
  {
   "cell_type": "markdown",
   "metadata": {},
   "source": [
    "### Activity\n",
    "*How much of the dataset information is preserved in the components?*\n",
    "\n",
    "Hint:\n",
    ">! Use `pca.explained_variance_ratio_`"
   ]
  },
  {
   "cell_type": "code",
   "execution_count": 25,
   "metadata": {},
   "outputs": [
    {
     "name": "stdout",
     "output_type": "stream",
     "text": [
      "[[-144.99315218   -2.53299944]\n",
      " [ 477.39163882  -58.90186182]\n",
      " [ -91.869339    286.08178613]\n",
      " [-240.52914764 -224.64692488]]\n",
      "[105073.34576714  45261.62487597]\n",
      "[0.67444346 0.29052475]\n",
      "[0.67444346 0.96496821]\n"
     ]
    }
   ],
   "source": [
    "# PCA computation by sklearn\n",
    "pca = PCA(n_components=2)\n",
    "X_r = pca.fit_transform(X)\n",
    "print(X_r)\n",
    "print(pca.explained_variance_)\n",
    "print(pca.explained_variance_ratio_)\n",
    "print(pca.explained_variance_ratio_.cumsum())"
   ]
  },
  {
   "cell_type": "code",
   "execution_count": 26,
   "metadata": {},
   "outputs": [
    {
     "name": "stdout",
     "output_type": "stream",
     "text": [
      "Correlation of PCA Component:\n",
      "(0.0, 1.0)\n"
     ]
    }
   ],
   "source": [
    "# Calculate the correlation of the principle components\n",
    "print('Correlation of PCA Component:')\n",
    "print(scipy.stats.pearsonr(X_r[:, 0], X_r[:, 1]))"
   ]
  },
  {
   "cell_type": "markdown",
   "metadata": {},
   "source": [
    "### Answer\n",
    ">! `100%`\n",
    "\n",
    "---"
   ]
  },
  {
   "cell_type": "markdown",
   "metadata": {},
   "source": [
    "### Activity: \n",
    "*Lets write our own function to obtain principle components.*\n",
    "> Watch [PCA steps](https://www.youtube.com/watch?v=0GzMcUy7ZI0 )\n",
    "\n",
    "Write a function that computes the principle component for our dataset. To do so, follow the steps here, watched in YouTube:\n",
    "1. Subtract column mean from feature matrix\n",
    "1. Calculate the covariance of centered matrix\n",
    "1. Calculate the eigenvalue and eigenvector of covariance matrix. Do arange eigevalue in decresing order \n",
    "1. Return the first K (two for example) column of matrix multiplication of centerned matrix with eigenvector matrix\n",
    "\n",
    "Compare the result of custom function with PCA in `sklearn`."
   ]
  },
  {
   "cell_type": "code",
   "execution_count": 40,
   "metadata": {
    "scrolled": true
   },
   "outputs": [
    {
     "name": "stdout",
     "output_type": "stream",
     "text": [
      "[[0.         0.         0.        ]\n",
      " [0.         1.66666667 1.16666667]\n",
      " [0.         1.16666667 0.91666667]]\n"
     ]
    },
    {
     "data": {
      "text/plain": [
       "array([[ 1.65392786, -0.2775295 ],\n",
       "       [ 0.84584087,  0.31153366],\n",
       "       [-0.55130929,  0.09250983],\n",
       "       [-1.94845944, -0.126514  ]])"
      ]
     },
     "execution_count": 40,
     "metadata": {},
     "output_type": "execute_result"
    }
   ],
   "source": [
    "# PCA computation by sklearn\n",
    "X = np.array([\n",
    "\t[1, 1, 1],\n",
    "\t[1, 2, 1],\n",
    "\t[1, 3, 2],\n",
    "\t[1, 4, 3]\n",
    "])\n",
    "\n",
    "# == TODO ==\n",
    "# What is pca?\n",
    "pca = PCA(n_components=2)\n",
    "\n",
    "# == TODO ==\n",
    "# What is X_r?\n",
    "X_r = pca.fit_transform(X)\n",
    "\n",
    "# == TODO ==\n",
    "# What is happening here?\n",
    "# print(X_r)\n",
    "# print(pca.explained_variance_)\n",
    "# print(pca.explained_variance_ratio_)\n",
    "# print(pca.explained_variance_ratio_.cumsum())\n",
    "# print('Correlation of PCA Component:')\n",
    "# print(scipy.stats.pearsonr(X_r[:, 0], X_r[:, 1]))\n",
    "\n",
    "# Our function to compare:\n",
    "def PCA_calculation(data, n_comp=2):\n",
    "\t# calculate the means of each column\n",
    "\tM = np.mean(data, axis=0)\n",
    "\n",
    "\t# center columns by subtracting the means\n",
    "\tC =  X - M\n",
    "\n",
    "\t# calculate the covariance matrix\n",
    "\tV = np.cov(C.T)\n",
    "\tprint(V)\n",
    "\n",
    "\t# == TODO ==\n",
    "\t# what does this mean?\n",
    "\t# eigendecomposition of covariance matrix\n",
    "\teig_value, eig_vector = np.linalg.eig(V)\n",
    "\n",
    "\t# == TODO ==\n",
    "\t# what does this mean?\n",
    "\t# sort eigenvalue in decreasing order\n",
    "\tidx = np.argsort(eig_value)[::-1] \n",
    "\teig_value = eig_value[idx]\n",
    "\n",
    "\t# == TODO ==\n",
    "\t# what does this mean?\n",
    "\t# sort eigenvectors according to same index\n",
    "\teig_vector = eig_vector[:, idx]\n",
    "\tP = np.dot(C, eig_vector)[:, :n_comp]\n",
    "\n",
    "\treturn P\n",
    "\n",
    "PCA_calculation(X, 2)"
   ]
  },
  {
   "cell_type": "code",
   "execution_count": 29,
   "metadata": {},
   "outputs": [
    {
     "name": "stdout",
     "output_type": "stream",
     "text": [
      "[[ 1.65392786 -0.2775295 ]\n",
      " [ 0.84584087  0.31153366]\n",
      " [-0.55130929  0.09250983]\n",
      " [-1.94845944 -0.126514  ]]\n"
     ]
    }
   ],
   "source": [
    "def PCA_custom(data, dims_rescaled_data=2):\n",
    "\t\"\"\"\n",
    "\treturns: data transformed in 2 dims/columns + regenerated original data\n",
    "\tpass in: data as 2D NumPy array\n",
    "\t\"\"\"\n",
    "\t# mean center the data\n",
    "\tdata = data - np.mean(data, axis=0)\n",
    "\t# calculate the covariance matrix\n",
    "\tR = np.cov(data, rowvar=False)\n",
    "\t# calculate eigenvectors & eigenvalues of the covariance matrix\n",
    "\t# use 'eigh' rather than 'eig' since R is symmetric,\n",
    "\t# the performance gain is substantial\n",
    "\tevals, evecs = np.linalg.eig(R)\n",
    "\t# sort eigenvalue in decreasing order\n",
    "\tidx = np.argsort(evals)[::-1]\n",
    "\tevecs = evecs[:, idx]\n",
    "\t# sort eigenvectors according to same index\n",
    "\tevals = evals[idx]\n",
    "\t# select the first n eigenvectors (n is desired dimension\n",
    "\t# of rescaled data array, or dims_rescaled_data)\n",
    "\tevecs = evecs[:, :dims_rescaled_data]\n",
    "\t# carry out the transformation on the data using eigenvectors\n",
    "\t# and return the re-scaled data, eigenvalues, and eigenvectors\n",
    "\treturn np.dot(evecs.T, data.T).T\n",
    "\n",
    "\n",
    "print(PCA_custom(X, 2))"
   ]
  }
 ],
 "metadata": {
  "kernelspec": {
   "display_name": "Python 3",
   "language": "python",
   "name": "python3"
  },
  "language_info": {
   "codemirror_mode": {
    "name": "ipython",
    "version": 3
   },
   "file_extension": ".py",
   "mimetype": "text/x-python",
   "name": "python",
   "nbconvert_exporter": "python",
   "pygments_lexer": "ipython3",
   "version": "3.7.3"
  }
 },
 "nbformat": 4,
 "nbformat_minor": 2
}
