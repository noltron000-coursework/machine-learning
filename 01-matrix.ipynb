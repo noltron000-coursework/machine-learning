{
 "cells": [
  {
   "cell_type": "code",
   "execution_count": 3,
   "metadata": {},
   "outputs": [
    {
     "name": "stdout",
     "output_type": "stream",
     "text": [
      "[[0.0, 0.0], [1.0, 1.0]]\n"
     ]
    }
   ],
   "source": [
    "import numpy\n",
    "import math\n",
    "\n",
    "def standardize(matrix):\n",
    "\t# get length and height of matrix\n",
    "\tlength = len(matrix)\n",
    "\theight = len(matrix[0])\n",
    "\tnew_matrix = matrix.copy()\n",
    "\n",
    "\t# create min and max vals for range\n",
    "\tmin_vals = [math.inf] * length\n",
    "\tmax_vals = [-math.inf] * length\n",
    "\n",
    "\t# loop through each row/col combo\n",
    "\tfor row_id, row in enumerate(matrix):\n",
    "\t\tfor col_id, cell in enumerate(row):\n",
    "\t\t\tif cell > max_vals[col_id]:\n",
    "\t\t\t\tmax_vals[col_id] = cell\n",
    "\t\t\tif cell < min_vals[col_id]:\n",
    "\t\t\t\tmin_vals[col_id] = cell\n",
    "\n",
    "\t# do it again now that we calculated stuff\n",
    "\t# this time we are applying new values to the output\n",
    "\tfor row_id, row in enumerate(matrix):\n",
    "\t\tfor col_id, cell in enumerate(row):\n",
    "\t\t\tmin = min_vals[col_id]\n",
    "\t\t\tmax = max_vals[col_id]\n",
    "\t\t\t# calculate the \"normalized\" cell value\n",
    "\t\t\tval = (cell - min) / (max - min)\n",
    "\t\t\tnew_matrix[row_id][col_id] = val\n",
    "\treturn new_matrix\n",
    "\n",
    "my_2d_matrix = [\n",
    "\t[1, 20, 300],\n",
    "\t[2, 30, 100],\n",
    "\t[5,-10, 600],\n",
    "]\n",
    "\n",
    "example_matrix = [\n",
    "\t[1000, 2],\n",
    "\t[1500, 3],\n",
    "]\n",
    "\n",
    "print(standardize(example_matrix))"
   ]
  },
  {
   "cell_type": "code",
   "execution_count": 4,
   "metadata": {},
   "outputs": [
    {
     "name": "stdout",
     "output_type": "stream",
     "text": [
      "[[0. 0.]\n",
      " [1. 1.]]\n"
     ]
    }
   ],
   "source": [
    "import numpy\n",
    "\n",
    "def max_min_s(x):\n",
    "\treturn (x - x.min(axis = 0)) / (x.max(axis = 0) - x.min(axis = 0))\n",
    "\n",
    "x_train = numpy.array([[1000., 2.], [1500., 3.]])\n",
    "print(max_min_s(x_train))"
   ]
  },
  {
   "cell_type": "code",
   "execution_count": 5,
   "metadata": {},
   "outputs": [
    {
     "name": "stdout",
     "output_type": "stream",
     "text": [
      "[[0. 0.]\n",
      " [1. 1.]]\n"
     ]
    }
   ],
   "source": [
    "from sklearn import preprocessing as preproc\n",
    "\n",
    "scaler = preproc.MinMaxScaler()\n",
    "x_min_max = scaler.fit_transform(x_train)\n",
    "\n",
    "print(x_min_max)"
   ]
  },
  {
   "cell_type": "markdown",
   "metadata": {},
   "source": [
    "## Activity 2"
   ]
  },
  {
   "cell_type": "code",
   "execution_count": 6,
   "metadata": {},
   "outputs": [
    {
     "name": "stdout",
     "output_type": "stream",
     "text": [
      "[[0. 0.]\n",
      " [1. 1.]]\n"
     ]
    }
   ],
   "source": [
    "def standard_s(x):\n",
    "\treturn (x - x.mean(axis = 0)) / (x.std(axis = 0))\n",
    "\n",
    "x_train = numpy.array([[1000., 2.], [1500., 3.]])\n",
    "print(max_min_s(x_train))"
   ]
  },
  {
   "cell_type": "code",
   "execution_count": 7,
   "metadata": {},
   "outputs": [],
   "source": [
    "standard_scaler = preproc.StandardScaler()"
   ]
  },
  {
   "cell_type": "code",
   "execution_count": 8,
   "metadata": {},
   "outputs": [],
   "source": [
    "# ..."
   ]
  }
 ],
 "metadata": {
  "kernelspec": {
   "display_name": "Python 3",
   "language": "python",
   "name": "python3"
  },
  "language_info": {
   "codemirror_mode": {
    "name": "ipython",
    "version": 3
   },
   "file_extension": ".py",
   "mimetype": "text/x-python",
   "name": "python",
   "nbconvert_exporter": "python",
   "pygments_lexer": "ipython3",
   "version": "3.7.3"
  }
 },
 "nbformat": 4,
 "nbformat_minor": 2
}
