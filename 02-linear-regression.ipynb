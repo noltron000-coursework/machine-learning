{
 "cells": [
  {
   "cell_type": "markdown",
   "metadata": {},
   "source": [
    "## Activity: \n",
    "- The distances that a runner has been run (in Mile) and the amount of water that he/she drinks (in Liters) is given \n",
    "\n",
    "## Do:\n",
    "- Plot the scatter of distance versus water that consumed  \n",
    "- Find the best line that describes this relationship\n",
    "- Plot the best line that you found"
   ]
  },
  {
   "cell_type": "code",
   "execution_count": 1,
   "metadata": {
    "scrolled": true
   },
   "outputs": [
    {
     "data": {
      "text/plain": [
       "Text(0, 0.5, 'Water Drinks (Litre)')"
      ]
     },
     "execution_count": 1,
     "metadata": {},
     "output_type": "execute_result"
    }
   ],
   "source": [
    "import numpy as np\n",
    "import matplotlib.pyplot as plot\n",
    "\n",
    "X = np.array([\n",
    "\t3.3,\n",
    "\t4.4,\n",
    "\t5.5,\n",
    "\t6.71,\n",
    "\t6.93,\n",
    "\t4.168,\n",
    "\t9.779,\n",
    "\t6.182,\n",
    "\t7.59,\n",
    "\t2.167,\n",
    "\t7.042,\n",
    "\t10.791,\n",
    "\t5.313,\n",
    "\t7.997,\n",
    "\t5.654,\n",
    "\t9.27,\n",
    "\t3.1\n",
    "])\n",
    "\n",
    "Y = np.array([\n",
    "\t1.7,\n",
    "\t2.76,\n",
    "\t2.09,\n",
    "\t3.19,\n",
    "\t1.694,\n",
    "\t1.573,\n",
    "\t3.366,\n",
    "\t2.596,\n",
    "\t2.53,\n",
    "\t1.221,\n",
    "\t2.827,\n",
    "\t3.465,\n",
    "\t1.65,\n",
    "\t2.904,\n",
    "\t2.42,\n",
    "\t2.94,\n",
    "\t1.3\n",
    "])\n",
    "\n",
    "# get plot\n",
    "plot.scatter(X, Y)\n",
    "plot.xlabel('Running Distance (Mile)')\n",
    "plot.ylabel('Water Drinks (Litre)')"
   ]
  },
  {
   "cell_type": "markdown",
   "metadata": {},
   "source": [
    "## Questions: \n",
    "- If this runner runs for 5 miles, how much water he/she will drink?\n",
    "- What is the error of our Linear Regression Model?"
   ]
  },
  {
   "cell_type": "code",
   "execution_count": 2,
   "metadata": {},
   "outputs": [
    {
     "data": {
      "text/plain": [
       "[<matplotlib.lines.Line2D at 0x114ee6eb8>]"
      ]
     },
     "execution_count": 2,
     "metadata": {},
     "output_type": "execute_result"
    },
    {
     "data": {
      "image/png": "[encoded data removed]",
      "text/plain": [
       "<Figure size 432x288 with 1 Axes>"
      ]
     },
     "metadata": {
      "needs_background": "light"
     },
     "output_type": "display_data"
    }
   ],
   "source": [
    "\n",
    "# w0 and w1 are the static variables in a line\n",
    "w0 = 0.79880123\n",
    "w1 = 0.25163494\n",
    "\n",
    "# Y1 is normal values\n",
    "# Y2 is estimated values\n",
    "Y1 = Y\n",
    "Y2 = list(map(lambda n: w1*n + w0*1, X))\n",
    "\n",
    "# plot Y1 & Y2\n",
    "plot.scatter(X, Y1)\n",
    "plot.plot(X, Y2)\n"
   ]
  },
  {
   "cell_type": "code",
   "execution_count": 3,
   "metadata": {},
   "outputs": [
    {
     "data": {
      "text/plain": [
       "<matplotlib.collections.PathCollection at 0x114fd08d0>"
      ]
     },
     "execution_count": 3,
     "metadata": {},
     "output_type": "execute_result"
    },
    {
     "data": {
      "image/png": "[encoded data removed]",
      "text/plain": [
       "<Figure size 432x288 with 1 Axes>"
      ]
     },
     "metadata": {
      "needs_background": "light"
     },
     "output_type": "display_data"
    }
   ],
   "source": [
    "# plot Y1 & Y2\n",
    "plot.scatter(X, Y1)\n",
    "plot.scatter(X, Y2)\n",
    "\n",
    "# notice how Y2 is totally flat, as per the estimation function"
   ]
  },
  {
   "cell_type": "code",
   "execution_count": 4,
   "metadata": {
    "scrolled": true
   },
   "outputs": [
    {
     "data": {
      "text/plain": [
       "<matplotlib.collections.PathCollection at 0x115077a90>"
      ]
     },
     "execution_count": 4,
     "metadata": {},
     "output_type": "execute_result"
    },
    {
     "data": {
      "image/png": "[encoded data removed]",
      "text/plain": [
       "<Figure size 432x288 with 1 Axes>"
      ]
     },
     "metadata": {
      "needs_background": "light"
     },
     "output_type": "display_data"
    }
   ],
   "source": [
    "# Y3 is the array of all error\n",
    "Y3 = []\n",
    "\n",
    "for n1, n2 in zip(Y1, Y2):\n",
    "\t# this is the equation for error\n",
    "\t# notice it never is negative\n",
    "\terror = (n1 - n2) ** 2\n",
    "\tY3.append(error)\n",
    "\n",
    "# display error chart\n",
    "plot.scatter(X, Y3)"
   ]
  },
  {
   "cell_type": "code",
   "execution_count": 5,
   "metadata": {},
   "outputs": [
    {
     "name": "stdout",
     "output_type": "stream",
     "text": [
      "2.615580458712498\n",
      "0.15385767404191164\n"
     ]
    }
   ],
   "source": [
    "# sum / len\n",
    "calculated_error = sum(Y3) / len(Y3)\n",
    "print(sum(Y3))\n",
    "print(calculated_error)"
   ]
  }
 ],
 "metadata": {
  "kernelspec": {
   "display_name": "Python 3",
   "language": "python",
   "name": "python3"
  },
  "language_info": {
   "codemirror_mode": {
    "name": "ipython",
    "version": 3
   },
   "file_extension": ".py",
   "mimetype": "text/x-python",
   "name": "python",
   "nbconvert_exporter": "python",
   "pygments_lexer": "ipython3",
   "version": "3.7.3"
  }
 },
 "nbformat": 4,
 "nbformat_minor": 2
}
