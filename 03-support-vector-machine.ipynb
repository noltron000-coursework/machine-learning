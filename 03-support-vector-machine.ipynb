{
 "cells": [
  {
   "cell_type": "code",
   "execution_count": 2,
   "metadata": {},
   "outputs": [],
   "source": [
    "import numpy\n",
    "import pandas\n",
    "from sklearn import svm\n",
    "import matplotlib.pyplot as pyplot\n",
    "\n",
    "data = pandas.read_csv('svm_dataset_2.csv')"
   ]
  },
  {
   "cell_type": "code",
   "execution_count": 10,
   "metadata": {},
   "outputs": [
    {
     "data": {
      "text/html": [
       "<div>\n",
       "<style scoped>\n",
       "    .dataframe tbody tr th:only-of-type {\n",
       "        vertical-align: middle;\n",
       "    }\n",
       "\n",
       "    .dataframe tbody tr th {\n",
       "        vertical-align: top;\n",
       "    }\n",
       "\n",
       "    .dataframe thead th {\n",
       "        text-align: right;\n",
       "    }\n",
       "</style>\n",
       "<table border=\"1\" class=\"dataframe\">\n",
       "  <thead>\n",
       "    <tr style=\"text-align: right;\">\n",
       "      <th></th>\n",
       "      <th>x1</th>\n",
       "      <th>x2</th>\n",
       "      <th>y</th>\n",
       "    </tr>\n",
       "  </thead>\n",
       "  <tbody>\n",
       "    <tr>\n",
       "      <th>0</th>\n",
       "      <td>7.0</td>\n",
       "      <td>20</td>\n",
       "      <td>-1</td>\n",
       "    </tr>\n",
       "    <tr>\n",
       "      <th>1</th>\n",
       "      <td>8.0</td>\n",
       "      <td>12</td>\n",
       "      <td>-1</td>\n",
       "    </tr>\n",
       "    <tr>\n",
       "      <th>2</th>\n",
       "      <td>9.0</td>\n",
       "      <td>19</td>\n",
       "      <td>-1</td>\n",
       "    </tr>\n",
       "    <tr>\n",
       "      <th>3</th>\n",
       "      <td>10.0</td>\n",
       "      <td>17</td>\n",
       "      <td>-1</td>\n",
       "    </tr>\n",
       "    <tr>\n",
       "      <th>4</th>\n",
       "      <td>11.0</td>\n",
       "      <td>15</td>\n",
       "      <td>-1</td>\n",
       "    </tr>\n",
       "    <tr>\n",
       "      <th>5</th>\n",
       "      <td>13.0</td>\n",
       "      <td>14</td>\n",
       "      <td>-1</td>\n",
       "    </tr>\n",
       "    <tr>\n",
       "      <th>6</th>\n",
       "      <td>14.0</td>\n",
       "      <td>12</td>\n",
       "      <td>-1</td>\n",
       "    </tr>\n",
       "    <tr>\n",
       "      <th>7</th>\n",
       "      <td>15.0</td>\n",
       "      <td>14</td>\n",
       "      <td>-1</td>\n",
       "    </tr>\n",
       "    <tr>\n",
       "      <th>8</th>\n",
       "      <td>15.0</td>\n",
       "      <td>17</td>\n",
       "      <td>-1</td>\n",
       "    </tr>\n",
       "    <tr>\n",
       "      <th>9</th>\n",
       "      <td>16.0</td>\n",
       "      <td>16</td>\n",
       "      <td>-1</td>\n",
       "    </tr>\n",
       "    <tr>\n",
       "      <th>10</th>\n",
       "      <td>4.0</td>\n",
       "      <td>15</td>\n",
       "      <td>1</td>\n",
       "    </tr>\n",
       "    <tr>\n",
       "      <th>11</th>\n",
       "      <td>5.5</td>\n",
       "      <td>12</td>\n",
       "      <td>1</td>\n",
       "    </tr>\n",
       "    <tr>\n",
       "      <th>12</th>\n",
       "      <td>7.0</td>\n",
       "      <td>10</td>\n",
       "      <td>1</td>\n",
       "    </tr>\n",
       "    <tr>\n",
       "      <th>13</th>\n",
       "      <td>8.0</td>\n",
       "      <td>10</td>\n",
       "      <td>1</td>\n",
       "    </tr>\n",
       "    <tr>\n",
       "      <th>14</th>\n",
       "      <td>9.0</td>\n",
       "      <td>9</td>\n",
       "      <td>1</td>\n",
       "    </tr>\n",
       "    <tr>\n",
       "      <th>15</th>\n",
       "      <td>10.0</td>\n",
       "      <td>8</td>\n",
       "      <td>1</td>\n",
       "    </tr>\n",
       "    <tr>\n",
       "      <th>16</th>\n",
       "      <td>11.0</td>\n",
       "      <td>5</td>\n",
       "      <td>1</td>\n",
       "    </tr>\n",
       "    <tr>\n",
       "      <th>17</th>\n",
       "      <td>12.0</td>\n",
       "      <td>7</td>\n",
       "      <td>1</td>\n",
       "    </tr>\n",
       "    <tr>\n",
       "      <th>18</th>\n",
       "      <td>12.0</td>\n",
       "      <td>9</td>\n",
       "      <td>1</td>\n",
       "    </tr>\n",
       "    <tr>\n",
       "      <th>19</th>\n",
       "      <td>13.0</td>\n",
       "      <td>10</td>\n",
       "      <td>1</td>\n",
       "    </tr>\n",
       "  </tbody>\n",
       "</table>\n",
       "</div>"
      ],
      "text/plain": [
       "      x1  x2  y\n",
       "0    7.0  20 -1\n",
       "1    8.0  12 -1\n",
       "2    9.0  19 -1\n",
       "3   10.0  17 -1\n",
       "4   11.0  15 -1\n",
       "5   13.0  14 -1\n",
       "6   14.0  12 -1\n",
       "7   15.0  14 -1\n",
       "8   15.0  17 -1\n",
       "9   16.0  16 -1\n",
       "10   4.0  15  1\n",
       "11   5.5  12  1\n",
       "12   7.0  10  1\n",
       "13   8.0  10  1\n",
       "14   9.0   9  1\n",
       "15  10.0   8  1\n",
       "16  11.0   5  1\n",
       "17  12.0   7  1\n",
       "18  12.0   9  1\n",
       "19  13.0  10  1"
      ]
     },
     "execution_count": 10,
     "metadata": {},
     "output_type": "execute_result"
    }
   ],
   "source": [
    "data"
   ]
  },
  {
   "cell_type": "code",
   "execution_count": 32,
   "metadata": {},
   "outputs": [
    {
     "name": "stdout",
     "output_type": "stream",
     "text": [
      "X_train\n",
      "y_train\n"
     ]
    },
    {
     "name": "stderr",
     "output_type": "stream",
     "text": [
      "/Users/nolansmac/anaconda3/lib/python3.7/site-packages/sklearn/svm/base.py:196: FutureWarning: The default value of gamma will change from 'auto' to 'scale' in version 0.22 to account better for unscaled features. Set gamma explicitly to 'auto' or 'scale' to avoid this warning.\n",
      "  \"avoid this warning.\", FutureWarning)\n"
     ]
    },
    {
     "data": {
      "text/plain": [
       "SVC(C=10, cache_size=200, class_weight=None, coef0=0.0,\n",
       "  decision_function_shape='ovr', degree=3, gamma='auto_deprecated',\n",
       "  kernel='poly', max_iter=-1, probability=False, random_state=None,\n",
       "  shrinking=True, tol=0.001, verbose=False)"
      ]
     },
     "execution_count": 32,
     "metadata": {},
     "output_type": "execute_result"
    }
   ],
   "source": [
    "X1 = data['x1']\n",
    "X2 = data['x2']\n",
    "\n",
    "X_train = numpy.array(list(zip(X1, X2)))\n",
    "y_train = data['y'].values\n",
    "\n",
    "print('X_train')\n",
    "X_train\n",
    "\n",
    "print('y_train')\n",
    "y_train\n",
    "\n",
    "'''\n",
    "== WARN == \n",
    "not well commented here!\n",
    "check what this section does better.\n",
    "'''\n",
    "# svm_classifier = svm.SVC(kernel='linear', C=10)\n",
    "svm_classifier = svm.SVC(kernel='poly', C=10)\n",
    "# svm_classifier = svm.SVC(kernel='rbf', gamma=0.1, C=100)\n",
    "svm_classifier.fit(X_train, y_train)"
   ]
  },
  {
   "cell_type": "code",
   "execution_count": 64,
   "metadata": {},
   "outputs": [],
   "source": [
    "# color everything!\n",
    "color_ls = []\n",
    "for k in y_train:\n",
    "\tif k == 1:\n",
    "\t\tcolor_ls.append('b')\n",
    "\telse:\n",
    "\t\tcolor_ls.append('r')\n",
    "\n",
    "\t\t# label everything!\n",
    "label = []\n",
    "for k in y_train:\n",
    "\tif k == 1:\n",
    "\t\tlabel.append('😄')\n",
    "\telse:\n",
    "\t\tlabel.append('😦')"
   ]
  },
  {
   "cell_type": "code",
   "execution_count": 65,
   "metadata": {},
   "outputs": [
    {
     "data": {
      "text/plain": [
       "array([[ 8. , 12. ],\n",
       "       [ 4. , 15. ],\n",
       "       [ 5.5, 12. ],\n",
       "       [13. , 10. ]])"
      ]
     },
     "execution_count": 65,
     "metadata": {},
     "output_type": "execute_result"
    },
    {
     "data": {
      "image/png": "[encoded data removed]",
      "text/plain": [
       "<Figure size 432x288 with 1 Axes>"
      ]
     },
     "metadata": {
      "needs_background": "light"
     },
     "output_type": "display_data"
    }
   ],
   "source": [
    "def plot_decision_boundary(clf, X, y):\n",
    "\tx1_min, x1_max = X[:, 0].min() - 1, X[:, 0].max() + 1\n",
    "\tx2_min, x2_max = X[:, 1].min() - 1, X[:, 1].max() + 1\n",
    "\n",
    "\txx1, xx2 = numpy.meshgrid(\n",
    "\t\tnumpy.arange(x1_min, x1_max), \n",
    "\t\tnumpy.arange(x2_min, x2_max)\n",
    "\t)\n",
    "\n",
    "\tZ = clf.decision_function(\n",
    "\t\tnumpy.array(\n",
    "\t\t\t[xx1.ravel(), \n",
    "\t\t\t xx2.ravel()]\n",
    "\t\t).T\n",
    "\t).reshape(xx1.shape)\n",
    "\n",
    "\tpyplot.contourf(\n",
    "\t\txx1,\n",
    "\t\txx2,\n",
    "\t\tZ,\n",
    "\t\tcolors='k',\n",
    "\t\tlevels=[-1, 0, 1],\n",
    "\t\talpha=0.4,\n",
    "\t\tlinestyles=['--', '-', '--']\n",
    "\t)\n",
    "\n",
    "\tpyplot.xlim(xx1.min(), xx1.max())\n",
    "\tpyplot.ylim(xx2.min(), xx2.max())\n",
    "\n",
    "plot_decision_boundary(svm_classifier, X_train, y_train)\n",
    "\n",
    "for k, (i,j) in enumerate(X_train):\n",
    "\tpyplot.scatter(i, j, c = color_ls[k])\n",
    "\tpyplot.text(i+0.02, j+0.02, label[k])\n",
    "\n",
    "svm_classifier.support_vectors_"
   ]
  },
  {
   "cell_type": "code",
   "execution_count": null,
   "metadata": {},
   "outputs": [],
   "source": []
  },
  {
   "cell_type": "code",
   "execution_count": null,
   "metadata": {},
   "outputs": [],
   "source": []
  },
  {
   "cell_type": "code",
   "execution_count": null,
   "metadata": {},
   "outputs": [],
   "source": []
  }
 ],
 "metadata": {
  "kernelspec": {
   "display_name": "Python 3",
   "language": "python",
   "name": "python3"
  },
  "language_info": {
   "codemirror_mode": {
    "name": "ipython",
    "version": 3
   },
   "file_extension": ".py",
   "mimetype": "text/x-python",
   "name": "python",
   "nbconvert_exporter": "python",
   "pygments_lexer": "ipython3",
   "version": "3.7.3"
  }
 },
 "nbformat": 4,
 "nbformat_minor": 2
}
